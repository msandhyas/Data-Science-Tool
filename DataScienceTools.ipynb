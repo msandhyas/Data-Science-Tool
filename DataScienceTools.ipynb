{
  "metadata": {
    "language_info": {
      "codemirror_mode": {
        "name": "python",
        "version": 3
      },
      "file_extension": ".py",
      "mimetype": "text/x-python",
      "name": "python",
      "nbconvert_exporter": "python",
      "pygments_lexer": "ipython3",
      "version": "3.8"
    },
    "kernelspec": {
      "name": "python",
      "display_name": "Pyolite",
      "language": "python"
    }
  },
  "nbformat_minor": 4,
  "nbformat": 4,
  "cells": [
    {
      "cell_type": "markdown",
      "source": "# My Jupyter Notebook on IBM Watson Studio",
      "metadata": {}
    },
    {
      "cell_type": "markdown",
      "source": "**SANDHYA** <br>\nData Engineer",
      "metadata": {}
    },
    {
      "cell_type": "markdown",
      "source": "*\"I am interested in data science because it can help in giving best possible solution to customer \"*",
      "metadata": {}
    },
    {
      "cell_type": "markdown",
      "source": "### Add two numbers and print the result",
      "metadata": {}
    },
    {
      "cell_type": "code",
      "source": "a=2\nb=5\nc=a+b\nprint(c)",
      "metadata": {
        "trusted": true
      },
      "execution_count": 4,
      "outputs": [
        {
          "name": "stdout",
          "text": "7\n",
          "output_type": "stream"
        }
      ]
    },
    {
      "cell_type": "markdown",
      "source": "### horizontal rule\n***\n### Bulleted LIst\n- bullet 1\n- bullet 2\n- bullet 3\n### horizontal rule\n***\n### Numbered List\n\n1. list 1\n1. list 2\n1. list 3\n### horizontal rule\n***\n__[Hyperlinks](https://upload.wikimedia.org/wikipedia/commons/thumb/9/97/Coursera-Logo_600x600.svg/1200px-Coursera-Logo_600x600.svg.png)__\n\n\n### horizontal rule\n***\n### Table\n| Id |  Name  | Author|\n|------|------|------|\n| 1   |  First Course in Probability| Sheldon Ross|\n| 2   |  Introduction to Probability| Dimitri P. Bertsekas|\n### horizontal rule\n***\n### Image\n\n<img src=\"https://upload.wikimedia.org/wikipedia/commons/thumb/9/97/Coursera-Logo_600x600.svg/1200px-Coursera-Logo_600x600.svg.png\" />\n\n### horizontal rule\n***\n\n",
      "metadata": {}
    },
    {
      "cell_type": "code",
      "source": "",
      "metadata": {},
      "execution_count": null,
      "outputs": []
    }
  ]
}